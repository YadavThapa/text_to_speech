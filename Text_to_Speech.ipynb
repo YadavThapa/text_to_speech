{
 "cells": [
  {
   "cell_type": "code",
   "execution_count": 3,
   "metadata": {},
   "outputs": [
    {
     "name": "stdout",
     "output_type": "stream",
     "text": [
      "Collecting gTTS\n",
      "  Using cached gTTS-2.1.1-py3-none-any.whl (25 kB)\n",
      "Requirement already satisfied: beautifulsoup4 in c:\\users\\yadav thapa\\new folder (2)\\lib\\site-packages (from gTTS) (4.9.1)\n",
      "Collecting gtts-token>=1.1.3\n",
      "  Using cached gTTS-token-1.1.3.tar.gz (3.4 kB)\n",
      "Requirement already satisfied: six in c:\\users\\yadav thapa\\new folder (2)\\lib\\site-packages (from gTTS) (1.15.0)\n",
      "Requirement already satisfied: click in c:\\users\\yadav thapa\\new folder (2)\\lib\\site-packages (from gTTS) (7.1.2)\n",
      "Requirement already satisfied: requests in c:\\users\\yadav thapa\\new folder (2)\\lib\\site-packages (from gTTS) (2.24.0)\n",
      "Requirement already satisfied: soupsieve>1.2 in c:\\users\\yadav thapa\\new folder (2)\\lib\\site-packages (from beautifulsoup4->gTTS) (2.0.1)\n",
      "Requirement already satisfied: chardet<4,>=3.0.2 in c:\\users\\yadav thapa\\new folder (2)\\lib\\site-packages (from requests->gTTS) (3.0.4)\n",
      "Requirement already satisfied: urllib3!=1.25.0,!=1.25.1,<1.26,>=1.21.1 in c:\\users\\yadav thapa\\new folder (2)\\lib\\site-packages (from requests->gTTS) (1.25.9)\n",
      "Requirement already satisfied: certifi>=2017.4.17 in c:\\users\\yadav thapa\\new folder (2)\\lib\\site-packages (from requests->gTTS) (2020.6.20)\n",
      "Requirement already satisfied: idna<3,>=2.5 in c:\\users\\yadav thapa\\new folder (2)\\lib\\site-packages (from requests->gTTS) (2.10)\n",
      "Building wheels for collected packages: gtts-token\n",
      "  Building wheel for gtts-token (setup.py): started\n",
      "  Building wheel for gtts-token (setup.py): finished with status 'done'\n",
      "  Created wheel for gtts-token: filename=gTTS_token-1.1.3-py3-none-any.whl size=4100 sha256=157e79dc598c139671c526600dbe46a0690e1096e9c4a639af2e7bd0f521d421\n",
      "  Stored in directory: c:\\users\\yadav thapa\\appdata\\local\\pip\\cache\\wheels\\95\\85\\5d\\7ee5fb054f35d52211e9274275d76f29f0a484f42876579596\n",
      "Successfully built gtts-token\n",
      "Installing collected packages: gtts-token, gTTS\n",
      "Successfully installed gTTS-2.1.1 gtts-token-1.1.3\n"
     ]
    }
   ],
   "source": [
    "!pip install gTTS"
   ]
  },
  {
   "cell_type": "code",
   "execution_count": 7,
   "metadata": {},
   "outputs": [
    {
     "data": {
      "text/plain": [
       "1"
      ]
     },
     "execution_count": 7,
     "metadata": {},
     "output_type": "execute_result"
    }
   ],
   "source": [
    "from gtts import gTTS\n",
    "import os\n",
    "tts = gTTS(text='Good morning Yadav, How are you doing I hope you are doing better. Have a nice holiday', lang='en')\n",
    "tts.save(\"good3.mp3\")\n",
    "os.system(\"mpg321 good3.mp3\")"
   ]
  },
  {
   "cell_type": "code",
   "execution_count": null,
   "metadata": {},
   "outputs": [],
   "source": []
  }
 ],
 "metadata": {
  "kernelspec": {
   "display_name": "PythonData",
   "language": "python",
   "name": "pythondata"
  },
  "language_info": {
   "codemirror_mode": {
    "name": "ipython",
    "version": 3
   },
   "file_extension": ".py",
   "mimetype": "text/x-python",
   "name": "python",
   "nbconvert_exporter": "python",
   "pygments_lexer": "ipython3",
   "version": "3.8.3"
  }
 },
 "nbformat": 4,
 "nbformat_minor": 4
}
